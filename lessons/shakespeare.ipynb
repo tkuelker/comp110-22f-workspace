{
 "cells": [
  {
   "cell_type": "markdown",
   "metadata": {},
   "source": [
    "# Quantifying Shakespeare\n",
    "\n",
    "In this notebook we will:\n",
    "\n",
    "1. Read all of Shakespeare's works into a list of strings\n",
    "2. Count the frequencies of the letters used\n",
    "3. The datset we will use is: <https://bit.ly/shakespeare-txt>"
   ]
  },
  {
   "cell_type": "code",
   "execution_count": 16,
   "metadata": {},
   "outputs": [
    {
     "name": "stdout",
     "output_type": "stream",
     "text": [
      "124455\n"
     ]
    }
   ],
   "source": [
    "# Read the lines into a list\n",
    "\n",
    "from io import TextIOWrapper\n",
    "\n",
    "def read_lines(filename: str) -> list[str]:\n",
    "    \"\"\"Read every line from filename into a list.\"\"\"\n",
    "    lines: list[str] = []\n",
    "    file_handle: TextIOWrapper = open(filename, \"r\")\n",
    "    for line in file_handle:\n",
    "        line = line.lower()\n",
    "        line = line.strip()\n",
    "        lines.append(line)\n",
    "    file_handle.close()\n",
    "    return lines\n",
    "\n",
    "shakespeare_lines: list[str] = read_lines(\"./shakespeare.txt\")\n",
    "print(len(shakespeare_lines))"
   ]
  },
  {
   "cell_type": "code",
   "execution_count": 17,
   "metadata": {},
   "outputs": [
    {
     "name": "stdout",
     "output_type": "stream",
     "text": [
      "{'t': 329775, 'h': 236868, 'i': 253990, 's': 248989, 'e': 447204, 'x': 5294, 'f': 80516, 'l': 170019, 'p': 58464, 'r': 237864, 'n': 243262, 'd': 149462, 'b': 61956, 'y': 94370, 'o': 314600, 'j': 4779, 'c': 88185, 'g': 68199, 'u': 128947, 'a': 289150, 'w': 89390, 'm': 111452, 'k': 35408, 'v': 37569, 'z': 1631, 'q': 3582}\n"
     ]
    }
   ],
   "source": [
    "# Tally up characters\n",
    "\n",
    "# Goal: Define a function named tally\n",
    "# It will take two parameters:\n",
    "# 1. A reference to a dictionary whose keys are str and values are int\n",
    "# 2. A str that refers to a key in the dictionary you are tallying\n",
    "# Logic:\n",
    "# If the str / key is in the dictionary, increase its value by one.\n",
    "# Otherwise, set they key's value to q in the dictionary\n",
    "# This function returns nothing.\n",
    "\n",
    "def tally(table: dict[str, int], character: str) -> None:\n",
    "    \"\"\"Tallys the charaters in a give file.\"\"\"\n",
    "    if character in table:\n",
    "        table[character] += 1\n",
    "    else:\n",
    "        table[character] = 1\n",
    "        return None\n",
    "\n",
    "\n",
    "def count_characters(lines: list[str]) -> dict[str, int]:\n",
    "    \"\"\"Count the frequenceies of all letters in lines.\"\"\"\n",
    "    counts: dict[str, int] = {}\n",
    "    for line in lines:\n",
    "        for chrt in line:\n",
    "            if chrt >= \"a\" and chrt <= \"z\":\n",
    "            # or if chrt.isalpha():\n",
    "                tally(counts, chrt)\n",
    "    return counts\n",
    "\n",
    "\n",
    "shakespeare_letters: dict[str, int] = count_characters(shakespeare_lines)\n",
    "print(shakespeare_letters)"
   ]
  },
  {
   "cell_type": "code",
   "execution_count": 18,
   "metadata": {},
   "outputs": [
    {
     "name": "stdout",
     "output_type": "stream",
     "text": [
      "{'a': 289150, 'b': 61956, 'c': 88185, 'd': 149462, 'e': 447204, 'f': 80516, 'g': 68199, 'h': 236868, 'i': 253990, 'j': 4779, 'k': 35408, 'l': 170019, 'm': 111452, 'n': 243262, 'o': 314600, 'p': 58464, 'q': 3582, 'r': 237864, 's': 248989, 't': 329775, 'u': 128947, 'v': 37569, 'w': 89390, 'x': 5294, 'y': 94370, 'z': 1631}\n"
     ]
    }
   ],
   "source": [
    "items_in_dict: list[tuple[str, int]] = list(shakespeare_letters.items())\n",
    "items_in_dict = sorted(items_in_dict)\n",
    "shakespeare_letters_sorted: dict[str, int] = dict(items_in_dict)\n",
    "print(shakespeare_letters_sorted)"
   ]
  },
  {
   "cell_type": "code",
   "execution_count": 19,
   "metadata": {},
   "outputs": [
    {
     "data": {
      "text/plain": [
       "<BarContainer object of 26 artists>"
      ]
     },
     "execution_count": 19,
     "metadata": {},
     "output_type": "execute_result"
    },
    {
     "data": {
      "image/png": "[encoded data removed]",
      "text/plain": [
       "<Figure size 640x480 with 1 Axes>"
      ]
     },
     "metadata": {},
     "output_type": "display_data"
    }
   ],
   "source": [
    "# Make a bar chart\n",
    "\n",
    "from matplotlib import pyplot\n",
    "import py\n",
    "\n",
    "pyplot.title(\"Frequency of letters\")\n",
    "pyplot.xlabel(\"Letters\")\n",
    "pyplot.ylabel(\"Frequencies\")\n",
    "labels: list[str] = list(shakespeare_letters_sorted.keys())\n",
    "values: list[int] = list(shakespeare_letters_sorted.values())\n",
    "pyplot.bar(labels, values)"
   ]
  }
 ],
 "metadata": {
  "kernelspec": {
   "display_name": "Python 3.10.6 64-bit",
   "language": "python",
   "name": "python3"
  },
  "language_info": {
   "codemirror_mode": {
    "name": "ipython",
    "version": 3
   },
   "file_extension": ".py",
   "mimetype": "text/x-python",
   "name": "python",
   "nbconvert_exporter": "python",
   "pygments_lexer": "ipython3",
   "version": "3.10.6"
  },
  "orig_nbformat": 4,
  "vscode": {
   "interpreter": {
    "hash": "ef9ce00dae72cabbf4078e74bf70e49b9c45b8d14802ed0ba528578b24d97902"
   }
  }
 },
 "nbformat": 4,
 "nbformat_minor": 2
}
